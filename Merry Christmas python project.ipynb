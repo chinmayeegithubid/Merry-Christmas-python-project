{
 "cells": [
  {
   "cell_type": "markdown",
   "id": "e568c71d-da16-464b-a8cb-150fdf56fbd9",
   "metadata": {},
   "source": [
    "# Merry Christmas python project by Chinmayee Nayak"
   ]
  },
  {
   "cell_type": "markdown",
   "id": "285be0f1-8bfd-4aa5-b644-00859f3f57a3",
   "metadata": {},
   "source": [
    "Hello everyone , In this project I have told how to make a merry christmas animation card using the python programming language. The libraries used in this project are pygame, turtle, tie and random.\n",
    "So we had taken a gif image of christmas, a song for christmas and we had made a christmas tree and a stars using turtle in python.\n",
    "This is a python projects which is for beginners."
   ]
  },
  {
   "cell_type": "code",
   "execution_count": 3,
   "id": "78f827bc-c574-49c0-842b-d286b5c059e9",
   "metadata": {},
   "outputs": [
    {
     "name": "stdout",
     "output_type": "stream",
     "text": [
      "pygame 2.6.1 (SDL 2.28.4, Python 3.12.3)\n",
      "Hello from the pygame community. https://www.pygame.org/contribute.html\n",
      "Closing the window and stopping the music.\n"
     ]
    }
   ],
   "source": [
    "from turtle import *\n",
    "import random\n",
    "from pygame import mixer\n",
    "\n",
    "# Colors for stars\n",
    "colors = ['cyan', 'yellow', 'white']\n",
    "\n",
    "# Initialize the Turtle screen and background\n",
    "screen = Screen()\n",
    "screen.setup(width=1000, height=800)  # Set custom dimensions for the Turtle window\n",
    "bgpic(r\"C:\\Users\\ChinmayeeNayak\\OneDrive\\Desktop\\Santaclaus1.gif\")  # Load your GIF file\n",
    "screen.title(\"Christmas Tree with Stars\")  # Set a title for the window\n",
    "\n",
    "# Initialize background music\n",
    "mixer.init()\n",
    "mixer.music.load(r\"C:\\Users\\ChinmayeeNayak\\OneDrive\\Desktop\\jinglebells.mp3\")\n",
    "mixer.music.play()\n",
    "\n",
    "# Define the black area for drawing stars\n",
    "BLACK_AREA_X = (-200, 200)  # Restrict stars to this horizontal range (adjust based on the GIF)\n",
    "BLACK_AREA_Y = (-300, 300)  # Restrict stars to this vertical range (adjust based on the GIF)\n",
    "\n",
    "# Tree drawing functions\n",
    "n = 45\n",
    "speed(0)\n",
    "pensize(2)\n",
    "\n",
    "penup()\n",
    "goto(0, -130)\n",
    "pendown()\n",
    "left(90)\n",
    "forward(3 * n)\n",
    "color(\"yellow\", \"yellow\")\n",
    "begin_fill()\n",
    "left(126)\n",
    "for i in range(5):\n",
    "    forward(n / 5)\n",
    "    right(144)\n",
    "    forward(n / 5)\n",
    "    left(72)\n",
    "end_fill()\n",
    "right(126)\n",
    "color(\"green\")\n",
    "backward(n * 4.8)\n",
    "\n",
    "def tree(d, s):\n",
    "    pensize(4)\n",
    "    if d <= 0:\n",
    "        return\n",
    "    forward(s)\n",
    "    tree(d - 1, s * 0.8)\n",
    "    right(120)\n",
    "    tree(d - 3, s * 0.6)\n",
    "    right(120)\n",
    "    tree(d - 3, s * 0.6)\n",
    "    right(120)\n",
    "    backward(s)\n",
    "\n",
    "# Star drawing functions\n",
    "def draw_star(x, y):\n",
    "    col = random.choice(colors)\n",
    "    l = random.randint(5, 15)  # Random size for stars\n",
    "    color(col)\n",
    "    penup()\n",
    "    goto(x, y)\n",
    "    pendown()\n",
    "    begin_fill()\n",
    "    for _ in range(5):\n",
    "        forward(l)\n",
    "        right(144)\n",
    "    end_fill()\n",
    "    penup()\n",
    "\n",
    "# Function to draw a large number of stars in the black area\n",
    "def draw_stars_in_black_area():\n",
    "    for _ in range(100):  # Draw 100 stars (Increase this number for more stars)\n",
    "        x = random.randint(BLACK_AREA_X[0], BLACK_AREA_X[1])  # Restrict x to black area\n",
    "        y = random.randint(BLACK_AREA_Y[0], BLACK_AREA_Y[1])  # Restrict y to black area\n",
    "        draw_star(x, y)\n",
    "\n",
    "# Clean up when the window is closed\n",
    "def on_close():\n",
    "    print(\"Closing the window and stopping the music.\")\n",
    "    mixer.music.stop()  # Stop the music\n",
    "    bye()  # Close the Turtle graphics window\n",
    "\n",
    "# Draw the tree and stars\n",
    "tree(12, n)\n",
    "backward(n / 2)\n",
    "draw_stars_in_black_area()  # Draw stars after the tree is completed\n",
    "\n",
    "# Set up the close button handler\n",
    "getcanvas().winfo_toplevel().protocol(\"WM_DELETE_WINDOW\", on_close)\n",
    "\n",
    "# Keep the window open\n",
    "done()\n"
   ]
  },
  {
   "cell_type": "code",
   "execution_count": null,
   "id": "7ad61f63-74f7-415b-941f-4e7ee7207200",
   "metadata": {},
   "outputs": [],
   "source": []
  }
 ],
 "metadata": {
  "kernelspec": {
   "display_name": "Python 3 (ipykernel)",
   "language": "python",
   "name": "python3"
  },
  "language_info": {
   "codemirror_mode": {
    "name": "ipython",
    "version": 3
   },
   "file_extension": ".py",
   "mimetype": "text/x-python",
   "name": "python",
   "nbconvert_exporter": "python",
   "pygments_lexer": "ipython3",
   "version": "3.12.3"
  }
 },
 "nbformat": 4,
 "nbformat_minor": 5
}
